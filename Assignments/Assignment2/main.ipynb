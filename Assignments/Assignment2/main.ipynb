{
 "cells": [
  {
   "cell_type": "markdown",
   "metadata": {},
   "source": [
    "# LSTM-arithmetic\n",
    "\n",
    "## Dataset\n",
    "- [Arithmetic dataset](https://drive.google.com/file/d/1cMuL3hF9jefka9RyF4gEBIGGeFGZYHE-/view?usp=sharing)"
   ]
  },
  {
   "cell_type": "code",
   "execution_count": 1,
   "metadata": {},
   "outputs": [],
   "source": [
    "# ! pip install seaborn\n",
    "# ! pip install opencc\n",
    "# ! pip install -U scikit-learn\n",
    "\n",
    "import numpy as np\n",
    "import pandas as pd\n",
    "import torch\n",
    "import torch.nn\n",
    "import torch.nn.utils.rnn\n",
    "import torch.utils.data\n",
    "import matplotlib.pyplot as plt\n",
    "import seaborn as sns\n",
    "import opencc\n",
    "import os\n",
    "from sklearn.model_selection import train_test_split\n",
    "\n",
    "# data_path = 'Assignments/Assignment2/'"
   ]
  },
  {
   "cell_type": "code",
   "execution_count": 2,
   "metadata": {},
   "outputs": [
    {
     "data": {
      "text/html": [
       "<div>\n",
       "<style scoped>\n",
       "    .dataframe tbody tr th:only-of-type {\n",
       "        vertical-align: middle;\n",
       "    }\n",
       "\n",
       "    .dataframe tbody tr th {\n",
       "        vertical-align: top;\n",
       "    }\n",
       "\n",
       "    .dataframe thead th {\n",
       "        text-align: right;\n",
       "    }\n",
       "</style>\n",
       "<table border=\"1\" class=\"dataframe\">\n",
       "  <thead>\n",
       "    <tr style=\"text-align: right;\">\n",
       "      <th></th>\n",
       "      <th>Unnamed: 0</th>\n",
       "      <th>src</th>\n",
       "      <th>tgt</th>\n",
       "    </tr>\n",
       "  </thead>\n",
       "  <tbody>\n",
       "    <tr>\n",
       "      <th>0</th>\n",
       "      <td>2285313</td>\n",
       "      <td>14*(43+20)=</td>\n",
       "      <td>882</td>\n",
       "    </tr>\n",
       "    <tr>\n",
       "      <th>1</th>\n",
       "      <td>317061</td>\n",
       "      <td>(6+1)*5=</td>\n",
       "      <td>35</td>\n",
       "    </tr>\n",
       "    <tr>\n",
       "      <th>2</th>\n",
       "      <td>718770</td>\n",
       "      <td>13+32+29=</td>\n",
       "      <td>74</td>\n",
       "    </tr>\n",
       "    <tr>\n",
       "      <th>3</th>\n",
       "      <td>170195</td>\n",
       "      <td>31*(3-11)=</td>\n",
       "      <td>-248</td>\n",
       "    </tr>\n",
       "    <tr>\n",
       "      <th>4</th>\n",
       "      <td>2581417</td>\n",
       "      <td>24*49+1=</td>\n",
       "      <td>1177</td>\n",
       "    </tr>\n",
       "  </tbody>\n",
       "</table>\n",
       "</div>"
      ],
      "text/plain": [
       "   Unnamed: 0          src   tgt\n",
       "0     2285313  14*(43+20)=   882\n",
       "1      317061     (6+1)*5=    35\n",
       "2      718770    13+32+29=    74\n",
       "3      170195   31*(3-11)=  -248\n",
       "4     2581417     24*49+1=  1177"
      ]
     },
     "execution_count": 2,
     "metadata": {},
     "output_type": "execute_result"
    }
   ],
   "source": [
    "df_train = pd.read_csv('arithmetic_train.csv')\n",
    "df_eval = pd.read_csv('arithmetic_eval.csv')\n",
    "df_train.head()"
   ]
  },
  {
   "cell_type": "code",
   "execution_count": 3,
   "metadata": {},
   "outputs": [
    {
     "data": {
      "text/html": [
       "<div>\n",
       "<style scoped>\n",
       "    .dataframe tbody tr th:only-of-type {\n",
       "        vertical-align: middle;\n",
       "    }\n",
       "\n",
       "    .dataframe tbody tr th {\n",
       "        vertical-align: top;\n",
       "    }\n",
       "\n",
       "    .dataframe thead th {\n",
       "        text-align: right;\n",
       "    }\n",
       "</style>\n",
       "<table border=\"1\" class=\"dataframe\">\n",
       "  <thead>\n",
       "    <tr style=\"text-align: right;\">\n",
       "      <th></th>\n",
       "      <th>Unnamed: 0</th>\n",
       "      <th>src</th>\n",
       "      <th>tgt</th>\n",
       "    </tr>\n",
       "  </thead>\n",
       "  <tbody>\n",
       "    <tr>\n",
       "      <th>0</th>\n",
       "      <td>2573208</td>\n",
       "      <td>48+43+34=</td>\n",
       "      <td>125</td>\n",
       "    </tr>\n",
       "    <tr>\n",
       "      <th>1</th>\n",
       "      <td>1630340</td>\n",
       "      <td>30-(48+13)=</td>\n",
       "      <td>-31</td>\n",
       "    </tr>\n",
       "    <tr>\n",
       "      <th>2</th>\n",
       "      <td>549277</td>\n",
       "      <td>(21*31)+10=</td>\n",
       "      <td>661</td>\n",
       "    </tr>\n",
       "    <tr>\n",
       "      <th>3</th>\n",
       "      <td>133957</td>\n",
       "      <td>2-27-10=</td>\n",
       "      <td>-35</td>\n",
       "    </tr>\n",
       "    <tr>\n",
       "      <th>4</th>\n",
       "      <td>1279828</td>\n",
       "      <td>(15*20)+24=</td>\n",
       "      <td>324</td>\n",
       "    </tr>\n",
       "  </tbody>\n",
       "</table>\n",
       "</div>"
      ],
      "text/plain": [
       "   Unnamed: 0          src  tgt\n",
       "0     2573208    48+43+34=  125\n",
       "1     1630340  30-(48+13)=  -31\n",
       "2      549277  (21*31)+10=  661\n",
       "3      133957     2-27-10=  -35\n",
       "4     1279828  (15*20)+24=  324"
      ]
     },
     "execution_count": 3,
     "metadata": {},
     "output_type": "execute_result"
    }
   ],
   "source": [
    "df_eval.head()"
   ]
  },
  {
   "cell_type": "code",
   "execution_count": 4,
   "metadata": {},
   "outputs": [],
   "source": [
    "# transform the input data to string\n",
    "df_train['tgt'] = df_train['tgt'].apply(lambda x: str(x))\n",
    "df_train['src'] = df_train['src'].add(df_train['tgt'])\n",
    "df_train['len'] = df_train['src'].apply(lambda x: len(x))\n",
    "\n",
    "df_eval['tgt'] = df_eval['tgt'].apply(lambda x: str(x))\n",
    "df_eval['src'] = df_eval['src'].add(df_eval['tgt'])\n",
    "df_eval['len'] = df_eval['src'].apply(lambda x: len(x))"
   ]
  },
  {
   "cell_type": "code",
   "execution_count": 5,
   "metadata": {},
   "outputs": [
    {
     "data": {
      "text/html": [
       "<div>\n",
       "<style scoped>\n",
       "    .dataframe tbody tr th:only-of-type {\n",
       "        vertical-align: middle;\n",
       "    }\n",
       "\n",
       "    .dataframe tbody tr th {\n",
       "        vertical-align: top;\n",
       "    }\n",
       "\n",
       "    .dataframe thead th {\n",
       "        text-align: right;\n",
       "    }\n",
       "</style>\n",
       "<table border=\"1\" class=\"dataframe\">\n",
       "  <thead>\n",
       "    <tr style=\"text-align: right;\">\n",
       "      <th></th>\n",
       "      <th>Unnamed: 0</th>\n",
       "      <th>src</th>\n",
       "      <th>tgt</th>\n",
       "      <th>len</th>\n",
       "    </tr>\n",
       "  </thead>\n",
       "  <tbody>\n",
       "    <tr>\n",
       "      <th>0</th>\n",
       "      <td>2285313</td>\n",
       "      <td>14*(43+20)=882</td>\n",
       "      <td>882</td>\n",
       "      <td>14</td>\n",
       "    </tr>\n",
       "    <tr>\n",
       "      <th>1</th>\n",
       "      <td>317061</td>\n",
       "      <td>(6+1)*5=35</td>\n",
       "      <td>35</td>\n",
       "      <td>10</td>\n",
       "    </tr>\n",
       "    <tr>\n",
       "      <th>2</th>\n",
       "      <td>718770</td>\n",
       "      <td>13+32+29=74</td>\n",
       "      <td>74</td>\n",
       "      <td>11</td>\n",
       "    </tr>\n",
       "    <tr>\n",
       "      <th>3</th>\n",
       "      <td>170195</td>\n",
       "      <td>31*(3-11)=-248</td>\n",
       "      <td>-248</td>\n",
       "      <td>14</td>\n",
       "    </tr>\n",
       "    <tr>\n",
       "      <th>4</th>\n",
       "      <td>2581417</td>\n",
       "      <td>24*49+1=1177</td>\n",
       "      <td>1177</td>\n",
       "      <td>12</td>\n",
       "    </tr>\n",
       "  </tbody>\n",
       "</table>\n",
       "</div>"
      ],
      "text/plain": [
       "   Unnamed: 0             src   tgt  len\n",
       "0     2285313  14*(43+20)=882   882   14\n",
       "1      317061      (6+1)*5=35    35   10\n",
       "2      718770     13+32+29=74    74   11\n",
       "3      170195  31*(3-11)=-248  -248   14\n",
       "4     2581417    24*49+1=1177  1177   12"
      ]
     },
     "execution_count": 5,
     "metadata": {},
     "output_type": "execute_result"
    }
   ],
   "source": [
    "df_train.head()"
   ]
  },
  {
   "cell_type": "markdown",
   "metadata": {},
   "source": [
    "# Build Dictionary\n",
    " - The model cannot perform calculations directly with plain text.\n",
    " - Convert all text (numbers/symbols) into numerical representations.\n",
    " - Special tokens\n",
    "    - '&lt;pad&gt;'\n",
    "        - Each sentence within a batch may have different lengths.\n",
    "        - The length is padded with '&lt;pad&gt;' to match the longest sentence in the batch.\n",
    "    - '&lt;eos&gt;'\n",
    "        - Specifies the end of the generated sequence.\n",
    "        - Without '&lt;eos&gt;', the model will not know when to stop generating."
   ]
  },
  {
   "cell_type": "code",
   "execution_count": 6,
   "metadata": {},
   "outputs": [
    {
     "name": "stdout",
     "output_type": "stream",
     "text": [
      "Vocab size18\n"
     ]
    }
   ],
   "source": [
    "char_to_id = {}\n",
    "id_to_char = {}\n",
    "\n",
    "# write your code here\n",
    "# Build a dictionary and give every token in the train dataset an id\n",
    "# The dictionary should contain <eos> and <pad>\n",
    "# char_to_id is to conver charactors to ids, while id_to_char is the opposite\n",
    "\n",
    "char_to_id['<eos>'] = 1\n",
    "char_to_id['<pad>'] = 0\n",
    "id_to_char[1] = '<eos>'\n",
    "id_to_char[0] = '<pad>'\n",
    "\n",
    "id = 2\n",
    "for row in df_train['src']:\n",
    "    for char in row:\n",
    "        if char not in char_to_id:\n",
    "            char_to_id[char] = id\n",
    "            id_to_char[id] = char\n",
    "            id += 1\n",
    "\n",
    "\n",
    "vocab_size = len(char_to_id)\n",
    "print('Vocab size{}'.format(vocab_size))"
   ]
  },
  {
   "cell_type": "markdown",
   "metadata": {},
   "source": [
    "# Data Preprocessing\n",
    " - The data is processed into the format required for the model's input and output.\n",
    " - Example: 1+2-3=0\n",
    "     - Model input: 1 + 2 - 3 = 0\n",
    "     - Model output: / / / / / 0 &lt;eos&gt;  (the '/' can be replaced with &lt;pad&gt;)\n",
    "     - The key for the model's output is that the model does not need to predict the next character of the previous part. What matters is that once the model sees '=', it should start generating the answer, which is '0'. After generating the answer, it should also generate&lt;eos&gt;\n"
   ]
  },
  {
   "cell_type": "code",
   "execution_count": 7,
   "metadata": {},
   "outputs": [
    {
     "data": {
      "text/html": [
       "<div>\n",
       "<style scoped>\n",
       "    .dataframe tbody tr th:only-of-type {\n",
       "        vertical-align: middle;\n",
       "    }\n",
       "\n",
       "    .dataframe tbody tr th {\n",
       "        vertical-align: top;\n",
       "    }\n",
       "\n",
       "    .dataframe thead th {\n",
       "        text-align: right;\n",
       "    }\n",
       "</style>\n",
       "<table border=\"1\" class=\"dataframe\">\n",
       "  <thead>\n",
       "    <tr style=\"text-align: right;\">\n",
       "      <th></th>\n",
       "      <th>Unnamed: 0</th>\n",
       "      <th>src</th>\n",
       "      <th>tgt</th>\n",
       "      <th>len</th>\n",
       "      <th>char_id_list</th>\n",
       "      <th>label_id_list</th>\n",
       "    </tr>\n",
       "  </thead>\n",
       "  <tbody>\n",
       "    <tr>\n",
       "      <th>0</th>\n",
       "      <td>2285313</td>\n",
       "      <td>14*(43+20)=882</td>\n",
       "      <td>882</td>\n",
       "      <td>14</td>\n",
       "      <td>[2, 3, 4, 5, 3, 6, 7, 8, 9, 10, 11, 12, 12, 8, 1]</td>\n",
       "      <td>[0, 0, 0, 0, 0, 0, 0, 0, 0, 0, 0, 12, 12, 8, 1]</td>\n",
       "    </tr>\n",
       "    <tr>\n",
       "      <th>1</th>\n",
       "      <td>317061</td>\n",
       "      <td>(6+1)*5=35</td>\n",
       "      <td>35</td>\n",
       "      <td>10</td>\n",
       "      <td>[5, 13, 7, 2, 10, 4, 14, 11, 6, 14, 1]</td>\n",
       "      <td>[0, 0, 0, 0, 0, 0, 0, 0, 6, 14, 1]</td>\n",
       "    </tr>\n",
       "    <tr>\n",
       "      <th>2</th>\n",
       "      <td>718770</td>\n",
       "      <td>13+32+29=74</td>\n",
       "      <td>74</td>\n",
       "      <td>11</td>\n",
       "      <td>[2, 6, 7, 6, 8, 7, 8, 15, 11, 16, 3, 1]</td>\n",
       "      <td>[0, 0, 0, 0, 0, 0, 0, 0, 0, 16, 3, 1]</td>\n",
       "    </tr>\n",
       "    <tr>\n",
       "      <th>3</th>\n",
       "      <td>170195</td>\n",
       "      <td>31*(3-11)=-248</td>\n",
       "      <td>-248</td>\n",
       "      <td>14</td>\n",
       "      <td>[6, 2, 4, 5, 6, 17, 2, 2, 10, 11, 17, 8, 3, 12...</td>\n",
       "      <td>[0, 0, 0, 0, 0, 0, 0, 0, 0, 0, 17, 8, 3, 12, 1]</td>\n",
       "    </tr>\n",
       "    <tr>\n",
       "      <th>4</th>\n",
       "      <td>2581417</td>\n",
       "      <td>24*49+1=1177</td>\n",
       "      <td>1177</td>\n",
       "      <td>12</td>\n",
       "      <td>[8, 3, 4, 3, 15, 7, 2, 11, 2, 2, 16, 16, 1]</td>\n",
       "      <td>[0, 0, 0, 0, 0, 0, 0, 0, 2, 2, 16, 16, 1]</td>\n",
       "    </tr>\n",
       "    <tr>\n",
       "      <th>5</th>\n",
       "      <td>184807</td>\n",
       "      <td>3+(25*25)=628</td>\n",
       "      <td>628</td>\n",
       "      <td>13</td>\n",
       "      <td>[6, 7, 5, 8, 14, 4, 8, 14, 10, 11, 13, 8, 12, 1]</td>\n",
       "      <td>[0, 0, 0, 0, 0, 0, 0, 0, 0, 0, 13, 8, 12, 1]</td>\n",
       "    </tr>\n",
       "    <tr>\n",
       "      <th>6</th>\n",
       "      <td>1590207</td>\n",
       "      <td>8*(30+10)=320</td>\n",
       "      <td>320</td>\n",
       "      <td>13</td>\n",
       "      <td>[12, 4, 5, 6, 9, 7, 2, 9, 10, 11, 6, 8, 9, 1]</td>\n",
       "      <td>[0, 0, 0, 0, 0, 0, 0, 0, 0, 0, 6, 8, 9, 1]</td>\n",
       "    </tr>\n",
       "    <tr>\n",
       "      <th>7</th>\n",
       "      <td>2052496</td>\n",
       "      <td>9*38+49=391</td>\n",
       "      <td>391</td>\n",
       "      <td>11</td>\n",
       "      <td>[15, 4, 6, 12, 7, 3, 15, 11, 6, 15, 2, 1]</td>\n",
       "      <td>[0, 0, 0, 0, 0, 0, 0, 0, 6, 15, 2, 1]</td>\n",
       "    </tr>\n",
       "    <tr>\n",
       "      <th>8</th>\n",
       "      <td>1228852</td>\n",
       "      <td>23-17=6</td>\n",
       "      <td>6</td>\n",
       "      <td>7</td>\n",
       "      <td>[8, 6, 17, 2, 16, 11, 13, 1]</td>\n",
       "      <td>[0, 0, 0, 0, 0, 0, 13, 1]</td>\n",
       "    </tr>\n",
       "    <tr>\n",
       "      <th>9</th>\n",
       "      <td>1238649</td>\n",
       "      <td>23-26*15=-367</td>\n",
       "      <td>-367</td>\n",
       "      <td>13</td>\n",
       "      <td>[8, 6, 17, 8, 13, 4, 2, 14, 11, 17, 6, 13, 16, 1]</td>\n",
       "      <td>[0, 0, 0, 0, 0, 0, 0, 0, 0, 17, 6, 13, 16, 1]</td>\n",
       "    </tr>\n",
       "  </tbody>\n",
       "</table>\n",
       "</div>"
      ],
      "text/plain": [
       "   Unnamed: 0             src   tgt  len  \\\n",
       "0     2285313  14*(43+20)=882   882   14   \n",
       "1      317061      (6+1)*5=35    35   10   \n",
       "2      718770     13+32+29=74    74   11   \n",
       "3      170195  31*(3-11)=-248  -248   14   \n",
       "4     2581417    24*49+1=1177  1177   12   \n",
       "5      184807   3+(25*25)=628   628   13   \n",
       "6     1590207   8*(30+10)=320   320   13   \n",
       "7     2052496     9*38+49=391   391   11   \n",
       "8     1228852         23-17=6     6    7   \n",
       "9     1238649   23-26*15=-367  -367   13   \n",
       "\n",
       "                                        char_id_list  \\\n",
       "0  [2, 3, 4, 5, 3, 6, 7, 8, 9, 10, 11, 12, 12, 8, 1]   \n",
       "1             [5, 13, 7, 2, 10, 4, 14, 11, 6, 14, 1]   \n",
       "2            [2, 6, 7, 6, 8, 7, 8, 15, 11, 16, 3, 1]   \n",
       "3  [6, 2, 4, 5, 6, 17, 2, 2, 10, 11, 17, 8, 3, 12...   \n",
       "4        [8, 3, 4, 3, 15, 7, 2, 11, 2, 2, 16, 16, 1]   \n",
       "5   [6, 7, 5, 8, 14, 4, 8, 14, 10, 11, 13, 8, 12, 1]   \n",
       "6      [12, 4, 5, 6, 9, 7, 2, 9, 10, 11, 6, 8, 9, 1]   \n",
       "7          [15, 4, 6, 12, 7, 3, 15, 11, 6, 15, 2, 1]   \n",
       "8                       [8, 6, 17, 2, 16, 11, 13, 1]   \n",
       "9  [8, 6, 17, 8, 13, 4, 2, 14, 11, 17, 6, 13, 16, 1]   \n",
       "\n",
       "                                     label_id_list  \n",
       "0  [0, 0, 0, 0, 0, 0, 0, 0, 0, 0, 0, 12, 12, 8, 1]  \n",
       "1               [0, 0, 0, 0, 0, 0, 0, 0, 6, 14, 1]  \n",
       "2            [0, 0, 0, 0, 0, 0, 0, 0, 0, 16, 3, 1]  \n",
       "3  [0, 0, 0, 0, 0, 0, 0, 0, 0, 0, 17, 8, 3, 12, 1]  \n",
       "4        [0, 0, 0, 0, 0, 0, 0, 0, 2, 2, 16, 16, 1]  \n",
       "5     [0, 0, 0, 0, 0, 0, 0, 0, 0, 0, 13, 8, 12, 1]  \n",
       "6       [0, 0, 0, 0, 0, 0, 0, 0, 0, 0, 6, 8, 9, 1]  \n",
       "7            [0, 0, 0, 0, 0, 0, 0, 0, 6, 15, 2, 1]  \n",
       "8                        [0, 0, 0, 0, 0, 0, 13, 1]  \n",
       "9    [0, 0, 0, 0, 0, 0, 0, 0, 0, 17, 6, 13, 16, 1]  "
      ]
     },
     "execution_count": 7,
     "metadata": {},
     "output_type": "execute_result"
    }
   ],
   "source": [
    "# Write your code here\n",
    "\n",
    "df_train['char_id_list'] = df_train['src'].apply(lambda x: [char_to_id[c] for c in x] + [char_to_id['<eos>']])\n",
    "\n",
    "def convert_tgt_to_label_id_list(row):\n",
    "    value_after_equal = False\n",
    "    label_id_list = []\n",
    "    for i in row['char_id_list']:\n",
    "        if value_after_equal:\n",
    "            label_id_list.append(i)\n",
    "            continue\n",
    "        if i == char_to_id['=']:\n",
    "            value_after_equal = True\n",
    "        label_id_list.append(char_to_id['<pad>'])\n",
    "\n",
    "    return label_id_list\n",
    "\n",
    "df_train['label_id_list'] = df_train.apply(convert_tgt_to_label_id_list, axis=1)\n",
    "    \n",
    "df_eval['char_id_list'] = df_eval['src'].apply(lambda x: [char_to_id[c] for c in x] + [char_to_id['<eos>']])\n",
    "df_eval['label_id_list'] = df_eval.apply(convert_tgt_to_label_id_list, axis=1)\n",
    "\n",
    "df_train.head(10)"
   ]
  },
  {
   "cell_type": "markdown",
   "metadata": {},
   "source": [
    "# Hyper Parameters\n",
    "\n",
    "|Hyperparameter|Meaning|Value|\n",
    "|-|-|-|\n",
    "|`batch_size`|Number of data samples in a single batch|64|\n",
    "|`epochs`|Total number of epochs to train|10|\n",
    "|`embed_dim`|Dimension of the word embeddings|256|\n",
    "|`hidden_dim`|Dimension of the hidden state in each timestep of the LSTM|256|\n",
    "|`lr`|Learning Rate|0.001|\n",
    "|`grad_clip`|To prevent gradient explosion in RNNs, restrict the gradient range|1|"
   ]
  },
  {
   "cell_type": "code",
   "execution_count": 9,
   "metadata": {},
   "outputs": [],
   "source": [
    "batch_size = 256\n",
    "epochs = 10\n",
    "embed_dim = 512\n",
    "hidden_dim = 512\n",
    "lr = 0.001\n",
    "grad_clip = 1"
   ]
  },
  {
   "cell_type": "markdown",
   "metadata": {},
   "source": [
    "# Data Batching\n",
    "- Use `torch.utils.data.Dataset` to create a data generation tool called  `dataset`.\n",
    "- The, use `torch.utils.data.DataLoader` to randomly sample from the `dataset` and group the samples into batches."
   ]
  },
  {
   "cell_type": "code",
   "execution_count": 10,
   "metadata": {},
   "outputs": [],
   "source": [
    "class Dataset(torch.utils.data.Dataset):\n",
    "    def __init__(self, sequences):\n",
    "        self.sequences = sequences\n",
    "    \n",
    "    def __len__(self):\n",
    "        # return the amount of data\n",
    "        return len(self.sequences)\n",
    "    \n",
    "    def __getitem__(self, index):\n",
    "        # Extract the input data x and the ground truth y from the data\n",
    "        x = self.sequences.iloc[index]['char_id_list'][:-1]\n",
    "        y = self.sequences.iloc[index]['label_id_list'][1:]\n",
    "        return x, y\n",
    "\n",
    "# collate function, used to build dataloader 來確保每個batch中的data長度一樣\n",
    "def collate_fn(batch):\n",
    "    batch_x = [torch.tensor(data[0]) for data in batch]\n",
    "    batch_y = [torch.tensor(data[1]) for data in batch]\n",
    "    batch_x_lens = torch.LongTensor([len(x) for x in batch_x])\n",
    "    batch_y_lens = torch.LongTensor([len(y) for y in batch_y])\n",
    "    \n",
    "    # Pad the input sequence\n",
    "    pad_batch_x = torch.nn.utils.rnn.pad_sequence(batch_x,\n",
    "                                                  batch_first=True,\n",
    "                                                  padding_value=char_to_id['<pad>'])\n",
    "    \n",
    "    pad_batch_y = torch.nn.utils.rnn.pad_sequence(batch_y,\n",
    "                                                  batch_first=True,\n",
    "                                                  padding_value=char_to_id['<pad>'])\n",
    "    \n",
    "    return pad_batch_x, pad_batch_y, batch_x_lens, batch_y_lens"
   ]
  },
  {
   "cell_type": "code",
   "execution_count": 11,
   "metadata": {},
   "outputs": [],
   "source": [
    "ds_train = Dataset(df_train[['char_id_list', 'label_id_list']])\n",
    "ds_eval = Dataset(df_eval[['char_id_list', 'label_id_list']])"
   ]
  },
  {
   "cell_type": "code",
   "execution_count": 12,
   "metadata": {},
   "outputs": [],
   "source": [
    "# Build dataloader of train set and eval set, collate_fn is the collate function\n",
    "dl_train = torch.utils.data.DataLoader(\n",
    "    ds_train,\n",
    "    batch_size=batch_size,\n",
    "    shuffle=True,\n",
    "    collate_fn=collate_fn\n",
    ")\n",
    "dl_eval = torch.utils.data.DataLoader(\n",
    "    ds_eval,\n",
    "    batch_size=batch_size,\n",
    "    shuffle=True,\n",
    "    collate_fn=collate_fn\n",
    ")"
   ]
  },
  {
   "cell_type": "code",
   "execution_count": 13,
   "metadata": {},
   "outputs": [
    {
     "name": "stdout",
     "output_type": "stream",
     "text": [
      "torch.Size([256, 16])\n",
      "torch.Size([256, 16])\n",
      "tensor([16, 11, 14, 15, 10, 11, 13, 14, 11, 10, 10, 14, 14, 10, 14, 13,  8, 10,\n",
      "        12, 14, 15, 15, 12,  9, 12, 14, 10, 13, 11, 12, 11, 12, 13, 13, 14, 14,\n",
      "        10, 14, 15, 12, 13, 12, 12, 12,  9, 11, 14, 13, 13, 12, 13, 15, 12, 13,\n",
      "        12, 11, 13, 12, 10, 11, 11, 14, 15, 11, 12, 12, 14, 10, 13, 13, 13, 13,\n",
      "        10, 11, 14, 10, 15, 15, 10, 11, 13, 10, 11, 13, 11, 13, 13, 15, 14, 11,\n",
      "        15, 13, 14, 12, 14, 13, 14, 15, 15, 13, 13, 11, 14, 12, 14, 14, 12, 13,\n",
      "        11, 13, 11, 13, 11, 11, 13, 14, 10, 12, 15, 12, 14, 12, 12, 11, 14, 11,\n",
      "        15, 10, 11, 13, 11, 12, 12, 12, 12, 12, 14, 12, 15, 13, 12,  9, 12, 11,\n",
      "        11, 12, 14, 12, 10,  8, 12, 15, 11, 13, 10, 13, 12,  8, 12, 14, 12, 14,\n",
      "        11, 12, 11, 13, 15, 14, 14, 13, 11, 14, 12, 16, 13, 10, 13, 12, 10, 11,\n",
      "        12, 10, 12, 11, 14, 14, 11, 14, 12, 12, 11, 11, 10, 14, 13, 13,  9, 12,\n",
      "        14, 11, 10, 11, 13, 13, 11, 15, 11,  9, 12, 12, 10, 13, 13, 14, 12, 13,\n",
      "        11, 13, 14, 13, 12, 12, 13,  9,  9, 15, 13, 12, 11, 15, 13, 12, 13, 13,\n",
      "         9, 13, 12, 14, 15, 10, 13, 12, 10, 16, 13, 13, 12, 14, 11, 13, 15, 12,\n",
      "        14, 10, 13, 13])\n",
      "tensor([16, 11, 14, 15, 10, 11, 13, 14, 11, 10, 10, 14, 14, 10, 14, 13,  8, 10,\n",
      "        12, 14, 15, 15, 12,  9, 12, 14, 10, 13, 11, 12, 11, 12, 13, 13, 14, 14,\n",
      "        10, 14, 15, 12, 13, 12, 12, 12,  9, 11, 14, 13, 13, 12, 13, 15, 12, 13,\n",
      "        12, 11, 13, 12, 10, 11, 11, 14, 15, 11, 12, 12, 14, 10, 13, 13, 13, 13,\n",
      "        10, 11, 14, 10, 15, 15, 10, 11, 13, 10, 11, 13, 11, 13, 13, 15, 14, 11,\n",
      "        15, 13, 14, 12, 14, 13, 14, 15, 15, 13, 13, 11, 14, 12, 14, 14, 12, 13,\n",
      "        11, 13, 11, 13, 11, 11, 13, 14, 10, 12, 15, 12, 14, 12, 12, 11, 14, 11,\n",
      "        15, 10, 11, 13, 11, 12, 12, 12, 12, 12, 14, 12, 15, 13, 12,  9, 12, 11,\n",
      "        11, 12, 14, 12, 10,  8, 12, 15, 11, 13, 10, 13, 12,  8, 12, 14, 12, 14,\n",
      "        11, 12, 11, 13, 15, 14, 14, 13, 11, 14, 12, 16, 13, 10, 13, 12, 10, 11,\n",
      "        12, 10, 12, 11, 14, 14, 11, 14, 12, 12, 11, 11, 10, 14, 13, 13,  9, 12,\n",
      "        14, 11, 10, 11, 13, 13, 11, 15, 11,  9, 12, 12, 10, 13, 13, 14, 12, 13,\n",
      "        11, 13, 14, 13, 12, 12, 13,  9,  9, 15, 13, 12, 11, 15, 13, 12, 13, 13,\n",
      "         9, 13, 12, 14, 15, 10, 13, 12, 10, 16, 13, 13, 12, 14, 11, 13, 15, 12,\n",
      "        14, 10, 13, 13])\n"
     ]
    }
   ],
   "source": [
    "for x, y, x_len, y_len in dl_train:\n",
    "    print(x.shape)\n",
    "    print(y.shape)\n",
    "    print(x_len)\n",
    "    print(y_len)\n",
    "    break"
   ]
  },
  {
   "cell_type": "markdown",
   "metadata": {},
   "source": [
    "# Model Design\n",
    "\n",
    "## Execution Flow\n",
    "1. Convert all characters in the sentence into embeddings.\n",
    "2. Pass the embeddings through an LSTM sequentially.\n",
    "3. The output of the LSTM is passed into another LSTM, and additional layers can be added.\n",
    "4. The output from all time steps of the final LSTM is passed through a Fully Connected layer.\n",
    "5. The character corresponding to the maximum value across all output dimensions is selected as the next character.\n",
    "\n",
    "## Loss Function\n",
    "Since this is a classification task, Cross Entropy is used as the loss function.\n",
    "\n",
    "## Gradient Update\n",
    "Adam algorithm is used for gradient updates."
   ]
  },
  {
   "cell_type": "code",
   "execution_count": 18,
   "metadata": {},
   "outputs": [],
   "source": [
    "class CharRNN(torch.nn.Module):\n",
    "    def __init__(self, vocab_size, embed_dim, hidden_dim):\n",
    "        super(CharRNN, self).__init__()\n",
    "        \n",
    "        self.embedding = torch.nn.Embedding(num_embeddings=vocab_size,\n",
    "                                            embedding_dim=embed_dim,\n",
    "                                            padding_idx=char_to_id['<pad>'])\n",
    "        \n",
    "        self.rnn_layer1 = torch.nn.LSTM(input_size=embed_dim,\n",
    "                                        hidden_size=hidden_dim,\n",
    "                                        batch_first=True)\n",
    "        \n",
    "        self.rnn_layer2 = torch.nn.LSTM(input_size=hidden_dim,\n",
    "                                        hidden_size=hidden_dim,\n",
    "                                        batch_first=True)\n",
    "        \n",
    "        # self.rnn_layer3 = torch.nn.LSTM(input_size=hidden_dim,\n",
    "        #                                 hidden_size=hidden_dim,\n",
    "        #                                 batch_first=True)\n",
    "        \n",
    "        # self.rnn_layer4 = torch.nn.LSTM(input_size=hidden_dim,\n",
    "        #                                 hidden_size=hidden_dim,\n",
    "        #                                 batch_first=True)        \n",
    "        self.linear = torch.nn.Sequential(torch.nn.Linear(in_features=hidden_dim,\n",
    "                                                          out_features=hidden_dim),\n",
    "                                          torch.nn.ReLU(),\n",
    "                                          torch.nn.Linear(in_features=hidden_dim,\n",
    "                                                          out_features=vocab_size))\n",
    "        \n",
    "    def forward(self, batch_x, batch_x_lens):\n",
    "        return self.encoder(batch_x, batch_x_lens)\n",
    "    \n",
    "    # The forward pass of the model\n",
    "    def encoder(self, batch_x, batch_x_lens):\n",
    "        batch_x = self.embedding(batch_x)\n",
    "        \n",
    "        batch_x = torch.nn.utils.rnn.pack_padded_sequence(batch_x,\n",
    "                                                          batch_x_lens,\n",
    "                                                          batch_first=True,\n",
    "                                                          enforce_sorted=False)\n",
    "        \n",
    "        batch_x, _ = self.rnn_layer1(batch_x)\n",
    "        batch_x, _ = self.rnn_layer2(batch_x)\n",
    "        # batch_x, _ = self.rnn_layer3(batch_x)\n",
    "        # batch_x, _ = self.rnn_layer4(batch_x)\n",
    "\n",
    "        \n",
    "        batch_x, _ = torch.nn.utils.rnn.pad_packed_sequence(batch_x,\n",
    "                                                            batch_first=True)\n",
    "        \n",
    "        batch_x = self.linear(batch_x)\n",
    "        \n",
    "        return batch_x\n",
    "    \n",
    "    def generator(self, start_char, max_len=20):\n",
    "        \n",
    "        char_list = [char_to_id[c] for c in start_char]\n",
    "        \n",
    "        next_char = None\n",
    "        \n",
    "        while len(char_list) < max_len: \n",
    "            # Write your code here \n",
    "            # Pack the char_list to tensor\n",
    "            # Input the tensor to the embedding layer, LSTM layers, linear respectively\n",
    "            # Obtain the next token prediction y\n",
    "\n",
    "            char_list_tensor = torch.tensor(char_list).unsqueeze(0).to(torch.device('cuda'))\n",
    "\n",
    "            char_list_tensor = self.embedding(char_list_tensor)\n",
    "            char_list_tensor, _ = self.rnn_layer1(char_list_tensor)\n",
    "            char_list_tensor, _ = self.rnn_layer2(char_list_tensor)\n",
    "            # char_list_tensor, _ = self.rnn_layer3(char_list_tensor)\n",
    "            # char_list_tensor, _ = self.rnn_layer4(char_list_tensor)\n",
    "\n",
    "            y = self.linear(char_list_tensor)\n",
    "            y = y.squeeze(0)\n",
    "            \n",
    "            next_char = torch.argmax(y[-1]).item()\n",
    "\n",
    "            # next_char =  # Use argmax function to get the next token prediction\n",
    "\n",
    "            if next_char == char_to_id['<eos>']:\n",
    "                break\n",
    "            \n",
    "            char_list.append(next_char)\n",
    "            \n",
    "        return [id_to_char[ch_id] for ch_id in char_list]"
   ]
  },
  {
   "cell_type": "code",
   "execution_count": 19,
   "metadata": {},
   "outputs": [],
   "source": [
    "torch.manual_seed(2)\n",
    "\n",
    "\n",
    "device = torch.device('cuda' if torch.cuda.is_available() else 'cpu')\n",
    "\n",
    "model = CharRNN(vocab_size,\n",
    "                embed_dim,\n",
    "                hidden_dim)"
   ]
  },
  {
   "cell_type": "code",
   "execution_count": 20,
   "metadata": {},
   "outputs": [],
   "source": [
    "criterion = torch.nn.CrossEntropyLoss(ignore_index=char_to_id['<pad>'])# Write your code here. Cross-entropy loss function. The loss function should ignore <pad>\n",
    "optimizer = torch.optim.Adam(model.parameters(), lr=lr) # Write your code here. Use Adam or AdamW for Optimizer"
   ]
  },
  {
   "cell_type": "markdown",
   "metadata": {},
   "source": [
    "# Training\n",
    "1. The outer `for` loop controls the `epoch`\n",
    "    1. The inner `for` loop uses `data_loader` to retrieve batches.\n",
    "        1. Pass the batch to the `model` for training.\n",
    "        2. Compare the predicted results `batch_pred_y` with the true labels `batch_y` using Cross Entropy to calculate the loss `loss`\n",
    "        3. Use `loss.backward` to automatically compute the gradients.\n",
    "        4. Use `torch.nn.utils.clip_grad_value_` to limit the gradient values between `-grad_clip` &lt; and &lt; `grad_clip`.\n",
    "        5. Use `optimizer.step()` to update the model (backpropagation).\n",
    "2.  After every `1000` batches, output the current loss to monitor whether it is converging."
   ]
  },
  {
   "cell_type": "code",
   "execution_count": 21,
   "metadata": {},
   "outputs": [
    {
     "name": "stderr",
     "output_type": "stream",
     "text": [
      "Train epoch 1: 100%|██████████| 9255/9255 [02:04<00:00, 74.06it/s, loss=0.271] \n",
      "Validation epoch 1: 100%|██████████| 1029/1029 [03:15<00:00,  5.27it/s]\n"
     ]
    },
    {
     "name": "stdout",
     "output_type": "stream",
     "text": [
      "Exact Match (EM) accuracy: 0.6627\n"
     ]
    },
    {
     "name": "stderr",
     "output_type": "stream",
     "text": [
      "Train epoch 2: 100%|██████████| 9255/9255 [02:05<00:00, 73.99it/s, loss=0.158] \n",
      "Validation epoch 2: 100%|██████████| 1029/1029 [03:13<00:00,  5.31it/s]\n"
     ]
    },
    {
     "name": "stdout",
     "output_type": "stream",
     "text": [
      "Exact Match (EM) accuracy: 0.8016\n"
     ]
    },
    {
     "name": "stderr",
     "output_type": "stream",
     "text": [
      "Train epoch 3: 100%|██████████| 9255/9255 [02:02<00:00, 75.57it/s, loss=0.109]  \n",
      "Validation epoch 3: 100%|██████████| 1029/1029 [03:14<00:00,  5.28it/s]\n"
     ]
    },
    {
     "name": "stdout",
     "output_type": "stream",
     "text": [
      "Exact Match (EM) accuracy: 0.8758\n"
     ]
    },
    {
     "name": "stderr",
     "output_type": "stream",
     "text": [
      "Train epoch 4: 100%|██████████| 9255/9255 [02:02<00:00, 75.67it/s, loss=0.0602] \n",
      "Validation epoch 4: 100%|██████████| 1029/1029 [03:13<00:00,  5.31it/s]\n"
     ]
    },
    {
     "name": "stdout",
     "output_type": "stream",
     "text": [
      "Exact Match (EM) accuracy: 0.9083\n"
     ]
    },
    {
     "name": "stderr",
     "output_type": "stream",
     "text": [
      "Train epoch 5: 100%|██████████| 9255/9255 [02:03<00:00, 74.92it/s, loss=0.0377] \n",
      "Validation epoch 5: 100%|██████████| 1029/1029 [03:05<00:00,  5.56it/s]\n"
     ]
    },
    {
     "name": "stdout",
     "output_type": "stream",
     "text": [
      "Exact Match (EM) accuracy: 0.9152\n"
     ]
    },
    {
     "name": "stderr",
     "output_type": "stream",
     "text": [
      "Train epoch 6: 100%|██████████| 9255/9255 [02:04<00:00, 74.10it/s, loss=0.0585] \n",
      "Validation epoch 6: 100%|██████████| 1029/1029 [03:00<00:00,  5.69it/s]\n"
     ]
    },
    {
     "name": "stdout",
     "output_type": "stream",
     "text": [
      "Exact Match (EM) accuracy: 0.9133\n"
     ]
    },
    {
     "name": "stderr",
     "output_type": "stream",
     "text": [
      "Train epoch 7: 100%|██████████| 9255/9255 [02:03<00:00, 74.70it/s, loss=0.0896] \n",
      "Validation epoch 7: 100%|██████████| 1029/1029 [03:01<00:00,  5.68it/s]\n"
     ]
    },
    {
     "name": "stdout",
     "output_type": "stream",
     "text": [
      "Exact Match (EM) accuracy: 0.9223\n"
     ]
    },
    {
     "name": "stderr",
     "output_type": "stream",
     "text": [
      "Train epoch 8: 100%|██████████| 9255/9255 [02:01<00:00, 75.99it/s, loss=0.0404] \n",
      "Validation epoch 8: 100%|██████████| 1029/1029 [02:58<00:00,  5.76it/s]\n"
     ]
    },
    {
     "name": "stdout",
     "output_type": "stream",
     "text": [
      "Exact Match (EM) accuracy: 0.9226\n"
     ]
    },
    {
     "name": "stderr",
     "output_type": "stream",
     "text": [
      "Train epoch 9: 100%|██████████| 9255/9255 [02:01<00:00, 75.91it/s, loss=0.0449] \n",
      "Validation epoch 9: 100%|██████████| 1029/1029 [03:00<00:00,  5.70it/s]\n"
     ]
    },
    {
     "name": "stdout",
     "output_type": "stream",
     "text": [
      "Exact Match (EM) accuracy: 0.9410\n"
     ]
    },
    {
     "name": "stderr",
     "output_type": "stream",
     "text": [
      "Train epoch 10: 100%|██████████| 9255/9255 [02:01<00:00, 76.34it/s, loss=0.0325] \n",
      "Validation epoch 10: 100%|██████████| 1029/1029 [02:59<00:00,  5.73it/s]"
     ]
    },
    {
     "name": "stdout",
     "output_type": "stream",
     "text": [
      "Exact Match (EM) accuracy: 0.9456\n"
     ]
    },
    {
     "name": "stderr",
     "output_type": "stream",
     "text": [
      "\n"
     ]
    }
   ],
   "source": [
    "from tqdm import tqdm\n",
    "from copy import deepcopy\n",
    "model = model.to(device)\n",
    "model.train()\n",
    "i = 0\n",
    "for epoch in range(1, epochs+1):\n",
    "    # The process bar\n",
    "    bar = tqdm(dl_train, desc=f\"Train epoch {epoch}\")\n",
    "    for batch_x, batch_y, batch_x_lens, batch_y_lens in bar:\n",
    "        # batch_x size: (batch_size, sequence_length)\n",
    "        # batch_y size: (batch_size, sequence_length)\n",
    "        # batch_x_lens size: (batch_size)\n",
    "        # batch_y_lens size: (batch_size)\n",
    "\n",
    "\n",
    "        # Write your code here\n",
    "        # Clear the gradient\n",
    "        optimizer.zero_grad()\n",
    "        batch_x = batch_x.to(device)\n",
    "        batch_y = batch_y.to(device)\n",
    "\n",
    "        batch_pred_y = model(batch_x, batch_x_lens) #same size as batch_x\n",
    "\n",
    "        # Write your code here\n",
    "        # Input the prediction and ground truths to loss function\n",
    "        # Back propagation\n",
    "        \n",
    "        packed_batch_pred_y = torch.nn.utils.rnn.pack_padded_sequence(batch_pred_y, batch_y_lens, batch_first=True, enforce_sorted=False).data\n",
    "        packed_y = torch.nn.utils.rnn.pack_padded_sequence(batch_y, batch_y_lens, batch_first=True, enforce_sorted=False).data\n",
    "        # print(f'packed_batch_pred_y shape : {packed_batch_pred_y.shape} / packed_y shape : {packed_y.shape}')\n",
    "        # print(f'batch_pred_y : {batch_pred_y} / batch_y : {packed_y}')\n",
    "        loss = criterion(packed_batch_pred_y, packed_y)\n",
    "        loss.backward()\n",
    "\n",
    "        torch.nn.utils.clip_grad_value_(model.parameters(), grad_clip) # gradient clipping\n",
    "\n",
    "        # Write your code here\n",
    "        # Optimize parameters in the model\n",
    "        optimizer.step()\n",
    "\n",
    "        i+=1\n",
    "        if i%50==0:\n",
    "            bar.set_postfix(loss = loss.item())\n",
    "    \n",
    "    # Evaluate your model 以下有許多部份參考chatgpt\n",
    "    bar = tqdm(dl_eval, desc=f\"Validation epoch {epoch}\")\n",
    "    matched = 0\n",
    "    total = 0\n",
    "    for batch_x, batch_y, batch_x_lens, batch_y_lens in bar:\n",
    "        batch_x = batch_x.to(device)\n",
    "        batch_y = batch_y.to(device)\n",
    "\n",
    "        # Generate predictions\n",
    "        predictions = model(batch_x, batch_x_lens)  # 輸入 batch_x，根據 batch_x_lens 生成預測\n",
    "\n",
    "        # 將預測值轉為索引\n",
    "        pred_labels = torch.argmax(predictions, dim=-1)\n",
    "\n",
    "        for i, (pred_row, true_row) in enumerate(zip(pred_labels, batch_y)):\n",
    "            # 找到 ground truth 中的第一個有效字符（非 <pad>）\n",
    "            valid_start_idx = (true_row != char_to_id['<pad>']).nonzero(as_tuple=True)[0][0]\n",
    "            \n",
    "            # 找到 <eos> 的位置\n",
    "            if char_to_id['<eos>'] in true_row:\n",
    "                valid_end_idx = (true_row == char_to_id['<eos>']).nonzero(as_tuple=True)[0][0]\n",
    "            else:\n",
    "                valid_end_idx = len(true_row)  # 如果沒有 <eos>，則使用整個序列\n",
    "\n",
    "            # 截取 ground truth 和 prediction 的有效部分\n",
    "            true_row_valid = true_row[valid_start_idx:valid_end_idx + 1]\n",
    "            pred_row_valid = pred_row[valid_start_idx:valid_end_idx + 1]\n",
    "\n",
    "            # 將索引轉換成字符並列印\n",
    "            pred_chars = ''.join([id_to_char[idx] for idx in pred_row_valid.tolist()])\n",
    "            true_chars = ''.join([id_to_char[idx] for idx in true_row_valid.tolist()])\n",
    "            # print(f\"Prediction: {pred_chars}\")\n",
    "            # print(f\"Ground Truth: {true_chars}\")\n",
    "\n",
    "            # 僅在有效字符完全匹配時才計為 1\n",
    "            if torch.equal(pred_row_valid, true_row_valid):\n",
    "                matched += 1\n",
    "            total += 1  # 每處理一個有效序列，計為 1\n",
    "\n",
    "    # Compute Exact Match (EM)\n",
    "    EM = matched / total if total > 0 else 0\n",
    "    print(f\"Exact Match (EM) accuracy: {EM:.4f}\")\n"
   ]
  },
  {
   "cell_type": "markdown",
   "metadata": {},
   "source": [
    "# Generation\n",
    "Use `model.generator` and provide an initial character to automatically generate a sequence."
   ]
  },
  {
   "cell_type": "code",
   "execution_count": 24,
   "metadata": {},
   "outputs": [
    {
     "name": "stdout",
     "output_type": "stream",
     "text": [
      "1+1=1\n"
     ]
    }
   ],
   "source": [
    "# model = model.to(\"cpu\")\n",
    "print(\"\".join(model.generator('1+1=')))"
   ]
  },
  {
   "cell_type": "code",
   "execution_count": 36,
   "metadata": {},
   "outputs": [
    {
     "data": {
      "text/plain": [
       "['9', '8', '+', '8', '2', '=', '3', '2']"
      ]
     },
     "execution_count": 36,
     "metadata": {},
     "output_type": "execute_result"
    }
   ],
   "source": [
    "model.generator('98+82=')"
   ]
  },
  {
   "cell_type": "markdown",
   "metadata": {},
   "source": [
    "# 預測沒看過的數字 測試在訓練資料集皆是50以內的數字時，測試資料集都加49來做評估EM。"
   ]
  },
  {
   "cell_type": "code",
   "execution_count": 28,
   "metadata": {},
   "outputs": [
    {
     "data": {
      "text/html": [
       "<div>\n",
       "<style scoped>\n",
       "    .dataframe tbody tr th:only-of-type {\n",
       "        vertical-align: middle;\n",
       "    }\n",
       "\n",
       "    .dataframe tbody tr th {\n",
       "        vertical-align: top;\n",
       "    }\n",
       "\n",
       "    .dataframe thead th {\n",
       "        text-align: right;\n",
       "    }\n",
       "</style>\n",
       "<table border=\"1\" class=\"dataframe\">\n",
       "  <thead>\n",
       "    <tr style=\"text-align: right;\">\n",
       "      <th></th>\n",
       "      <th>Unnamed: 0</th>\n",
       "      <th>src</th>\n",
       "      <th>tgt</th>\n",
       "    </tr>\n",
       "  </thead>\n",
       "  <tbody>\n",
       "    <tr>\n",
       "      <th>0</th>\n",
       "      <td>2573208</td>\n",
       "      <td>48+43+34=</td>\n",
       "      <td>125</td>\n",
       "    </tr>\n",
       "    <tr>\n",
       "      <th>1</th>\n",
       "      <td>1630340</td>\n",
       "      <td>30-(48+13)=</td>\n",
       "      <td>-31</td>\n",
       "    </tr>\n",
       "    <tr>\n",
       "      <th>2</th>\n",
       "      <td>549277</td>\n",
       "      <td>(21*31)+10=</td>\n",
       "      <td>661</td>\n",
       "    </tr>\n",
       "    <tr>\n",
       "      <th>3</th>\n",
       "      <td>133957</td>\n",
       "      <td>2-27-10=</td>\n",
       "      <td>-35</td>\n",
       "    </tr>\n",
       "    <tr>\n",
       "      <th>4</th>\n",
       "      <td>1279828</td>\n",
       "      <td>(15*20)+24=</td>\n",
       "      <td>324</td>\n",
       "    </tr>\n",
       "    <tr>\n",
       "      <th>...</th>\n",
       "      <td>...</td>\n",
       "      <td>...</td>\n",
       "      <td>...</td>\n",
       "    </tr>\n",
       "    <tr>\n",
       "      <th>263245</th>\n",
       "      <td>782879</td>\n",
       "      <td>14*43*23=</td>\n",
       "      <td>13846</td>\n",
       "    </tr>\n",
       "    <tr>\n",
       "      <th>263246</th>\n",
       "      <td>2533040</td>\n",
       "      <td>48-(5*27)=</td>\n",
       "      <td>-87</td>\n",
       "    </tr>\n",
       "    <tr>\n",
       "      <th>263247</th>\n",
       "      <td>2228788</td>\n",
       "      <td>30*42+16=</td>\n",
       "      <td>1276</td>\n",
       "    </tr>\n",
       "    <tr>\n",
       "      <th>263248</th>\n",
       "      <td>542747</td>\n",
       "      <td>21*(10-15)=</td>\n",
       "      <td>-105</td>\n",
       "    </tr>\n",
       "    <tr>\n",
       "      <th>263249</th>\n",
       "      <td>224026</td>\n",
       "      <td>(12*37)+4=</td>\n",
       "      <td>448</td>\n",
       "    </tr>\n",
       "  </tbody>\n",
       "</table>\n",
       "<p>263250 rows × 3 columns</p>\n",
       "</div>"
      ],
      "text/plain": [
       "        Unnamed: 0          src    tgt\n",
       "0          2573208    48+43+34=    125\n",
       "1          1630340  30-(48+13)=    -31\n",
       "2           549277  (21*31)+10=    661\n",
       "3           133957     2-27-10=    -35\n",
       "4          1279828  (15*20)+24=    324\n",
       "...            ...          ...    ...\n",
       "263245      782879    14*43*23=  13846\n",
       "263246     2533040   48-(5*27)=    -87\n",
       "263247     2228788    30*42+16=   1276\n",
       "263248      542747  21*(10-15)=   -105\n",
       "263249      224026   (12*37)+4=    448\n",
       "\n",
       "[263250 rows x 3 columns]"
      ]
     },
     "execution_count": 28,
     "metadata": {},
     "output_type": "execute_result"
    }
   ],
   "source": [
    "df_eval2 = pd.read_csv('arithmetic_eval.csv')\n",
    "df_eval2"
   ]
  },
  {
   "cell_type": "code",
   "execution_count": 29,
   "metadata": {},
   "outputs": [
    {
     "data": {
      "text/html": [
       "<div>\n",
       "<style scoped>\n",
       "    .dataframe tbody tr th:only-of-type {\n",
       "        vertical-align: middle;\n",
       "    }\n",
       "\n",
       "    .dataframe tbody tr th {\n",
       "        vertical-align: top;\n",
       "    }\n",
       "\n",
       "    .dataframe thead th {\n",
       "        text-align: right;\n",
       "    }\n",
       "</style>\n",
       "<table border=\"1\" class=\"dataframe\">\n",
       "  <thead>\n",
       "    <tr style=\"text-align: right;\">\n",
       "      <th></th>\n",
       "      <th>Unnamed: 0</th>\n",
       "      <th>src</th>\n",
       "      <th>tgt</th>\n",
       "    </tr>\n",
       "  </thead>\n",
       "  <tbody>\n",
       "    <tr>\n",
       "      <th>0</th>\n",
       "      <td>2573208</td>\n",
       "      <td>97+92+83=</td>\n",
       "      <td>272</td>\n",
       "    </tr>\n",
       "    <tr>\n",
       "      <th>1</th>\n",
       "      <td>1630340</td>\n",
       "      <td>79-(97+62)=</td>\n",
       "      <td>-80</td>\n",
       "    </tr>\n",
       "    <tr>\n",
       "      <th>2</th>\n",
       "      <td>549277</td>\n",
       "      <td>(70*80)+59=</td>\n",
       "      <td>5659</td>\n",
       "    </tr>\n",
       "    <tr>\n",
       "      <th>3</th>\n",
       "      <td>133957</td>\n",
       "      <td>51-76-59=</td>\n",
       "      <td>-84</td>\n",
       "    </tr>\n",
       "    <tr>\n",
       "      <th>4</th>\n",
       "      <td>1279828</td>\n",
       "      <td>(64*69)+73=</td>\n",
       "      <td>4489</td>\n",
       "    </tr>\n",
       "    <tr>\n",
       "      <th>...</th>\n",
       "      <td>...</td>\n",
       "      <td>...</td>\n",
       "      <td>...</td>\n",
       "    </tr>\n",
       "    <tr>\n",
       "      <th>263245</th>\n",
       "      <td>782879</td>\n",
       "      <td>63*92*72=</td>\n",
       "      <td>417312</td>\n",
       "    </tr>\n",
       "    <tr>\n",
       "      <th>263246</th>\n",
       "      <td>2533040</td>\n",
       "      <td>97-(54*76)=</td>\n",
       "      <td>-4007</td>\n",
       "    </tr>\n",
       "    <tr>\n",
       "      <th>263247</th>\n",
       "      <td>2228788</td>\n",
       "      <td>79*91+65=</td>\n",
       "      <td>7254</td>\n",
       "    </tr>\n",
       "    <tr>\n",
       "      <th>263248</th>\n",
       "      <td>542747</td>\n",
       "      <td>70*(59-64)=</td>\n",
       "      <td>-350</td>\n",
       "    </tr>\n",
       "    <tr>\n",
       "      <th>263249</th>\n",
       "      <td>224026</td>\n",
       "      <td>(61*86)+53=</td>\n",
       "      <td>5299</td>\n",
       "    </tr>\n",
       "  </tbody>\n",
       "</table>\n",
       "<p>263250 rows × 3 columns</p>\n",
       "</div>"
      ],
      "text/plain": [
       "        Unnamed: 0          src     tgt\n",
       "0          2573208    97+92+83=     272\n",
       "1          1630340  79-(97+62)=     -80\n",
       "2           549277  (70*80)+59=    5659\n",
       "3           133957    51-76-59=     -84\n",
       "4          1279828  (64*69)+73=    4489\n",
       "...            ...          ...     ...\n",
       "263245      782879    63*92*72=  417312\n",
       "263246     2533040  97-(54*76)=   -4007\n",
       "263247     2228788    79*91+65=    7254\n",
       "263248      542747  70*(59-64)=    -350\n",
       "263249      224026  (61*86)+53=    5299\n",
       "\n",
       "[263250 rows x 3 columns]"
      ]
     },
     "execution_count": 29,
     "metadata": {},
     "output_type": "execute_result"
    }
   ],
   "source": [
    "# 這個cell是Chatgpt生成的 \n",
    "import re\n",
    "\n",
    "def add_49_and_evaluate(expression):\n",
    "    # 移除等號 \"=\"\n",
    "    expression = expression.replace(\"=\", \"\")\n",
    "    # 使用正則表達式找到所有的數字並加上 49\n",
    "    modified_expression = re.sub(r'\\d+', lambda x: str(int(x.group()) + 49), expression)\n",
    "    # 計算修改後的結果\n",
    "    result = eval(modified_expression)\n",
    "    # 加回等號 \"=\"\n",
    "    modified_expression += \"=\"\n",
    "    return modified_expression, result\n",
    "\n",
    "# 對每一行應用，並直接更新原始的 `src` 和 `tgt` 欄位\n",
    "df_eval2[['src', 'tgt']] = df_eval2['src'].apply(lambda x: pd.Series(add_49_and_evaluate(x)))\n",
    "\n",
    "# 顯示結果\n",
    "df_eval2\n"
   ]
  },
  {
   "cell_type": "code",
   "execution_count": 30,
   "metadata": {},
   "outputs": [
    {
     "data": {
      "text/html": [
       "<div>\n",
       "<style scoped>\n",
       "    .dataframe tbody tr th:only-of-type {\n",
       "        vertical-align: middle;\n",
       "    }\n",
       "\n",
       "    .dataframe tbody tr th {\n",
       "        vertical-align: top;\n",
       "    }\n",
       "\n",
       "    .dataframe thead th {\n",
       "        text-align: right;\n",
       "    }\n",
       "</style>\n",
       "<table border=\"1\" class=\"dataframe\">\n",
       "  <thead>\n",
       "    <tr style=\"text-align: right;\">\n",
       "      <th></th>\n",
       "      <th>Unnamed: 0</th>\n",
       "      <th>src</th>\n",
       "      <th>tgt</th>\n",
       "      <th>len</th>\n",
       "      <th>char_id_list</th>\n",
       "      <th>label_id_list</th>\n",
       "    </tr>\n",
       "  </thead>\n",
       "  <tbody>\n",
       "    <tr>\n",
       "      <th>0</th>\n",
       "      <td>2573208</td>\n",
       "      <td>97+92+83=272</td>\n",
       "      <td>272</td>\n",
       "      <td>12</td>\n",
       "      <td>[15, 16, 7, 15, 8, 7, 12, 6, 11, 8, 16, 8, 1]</td>\n",
       "      <td>[0, 0, 0, 0, 0, 0, 0, 0, 0, 8, 16, 8, 1]</td>\n",
       "    </tr>\n",
       "    <tr>\n",
       "      <th>1</th>\n",
       "      <td>1630340</td>\n",
       "      <td>79-(97+62)=-80</td>\n",
       "      <td>-80</td>\n",
       "      <td>14</td>\n",
       "      <td>[16, 15, 17, 5, 15, 16, 7, 13, 8, 10, 11, 17, ...</td>\n",
       "      <td>[0, 0, 0, 0, 0, 0, 0, 0, 0, 0, 0, 17, 12, 9, 1]</td>\n",
       "    </tr>\n",
       "    <tr>\n",
       "      <th>2</th>\n",
       "      <td>549277</td>\n",
       "      <td>(70*80)+59=5659</td>\n",
       "      <td>5659</td>\n",
       "      <td>15</td>\n",
       "      <td>[5, 16, 9, 4, 12, 9, 10, 7, 14, 15, 11, 14, 13...</td>\n",
       "      <td>[0, 0, 0, 0, 0, 0, 0, 0, 0, 0, 0, 14, 13, 14, ...</td>\n",
       "    </tr>\n",
       "    <tr>\n",
       "      <th>3</th>\n",
       "      <td>133957</td>\n",
       "      <td>51-76-59=-84</td>\n",
       "      <td>-84</td>\n",
       "      <td>12</td>\n",
       "      <td>[14, 2, 17, 16, 13, 17, 14, 15, 11, 17, 12, 3, 1]</td>\n",
       "      <td>[0, 0, 0, 0, 0, 0, 0, 0, 0, 17, 12, 3, 1]</td>\n",
       "    </tr>\n",
       "    <tr>\n",
       "      <th>4</th>\n",
       "      <td>1279828</td>\n",
       "      <td>(64*69)+73=4489</td>\n",
       "      <td>4489</td>\n",
       "      <td>15</td>\n",
       "      <td>[5, 13, 3, 4, 13, 15, 10, 7, 16, 6, 11, 3, 3, ...</td>\n",
       "      <td>[0, 0, 0, 0, 0, 0, 0, 0, 0, 0, 0, 3, 3, 12, 15...</td>\n",
       "    </tr>\n",
       "  </tbody>\n",
       "</table>\n",
       "</div>"
      ],
      "text/plain": [
       "   Unnamed: 0              src   tgt  len  \\\n",
       "0     2573208     97+92+83=272   272   12   \n",
       "1     1630340   79-(97+62)=-80   -80   14   \n",
       "2      549277  (70*80)+59=5659  5659   15   \n",
       "3      133957     51-76-59=-84   -84   12   \n",
       "4     1279828  (64*69)+73=4489  4489   15   \n",
       "\n",
       "                                        char_id_list  \\\n",
       "0      [15, 16, 7, 15, 8, 7, 12, 6, 11, 8, 16, 8, 1]   \n",
       "1  [16, 15, 17, 5, 15, 16, 7, 13, 8, 10, 11, 17, ...   \n",
       "2  [5, 16, 9, 4, 12, 9, 10, 7, 14, 15, 11, 14, 13...   \n",
       "3  [14, 2, 17, 16, 13, 17, 14, 15, 11, 17, 12, 3, 1]   \n",
       "4  [5, 13, 3, 4, 13, 15, 10, 7, 16, 6, 11, 3, 3, ...   \n",
       "\n",
       "                                       label_id_list  \n",
       "0           [0, 0, 0, 0, 0, 0, 0, 0, 0, 8, 16, 8, 1]  \n",
       "1    [0, 0, 0, 0, 0, 0, 0, 0, 0, 0, 0, 17, 12, 9, 1]  \n",
       "2  [0, 0, 0, 0, 0, 0, 0, 0, 0, 0, 0, 14, 13, 14, ...  \n",
       "3          [0, 0, 0, 0, 0, 0, 0, 0, 0, 17, 12, 3, 1]  \n",
       "4  [0, 0, 0, 0, 0, 0, 0, 0, 0, 0, 0, 3, 3, 12, 15...  "
      ]
     },
     "execution_count": 30,
     "metadata": {},
     "output_type": "execute_result"
    }
   ],
   "source": [
    "\n",
    "df_eval2['tgt'] = df_eval2['tgt'].apply(lambda x: str(x))\n",
    "df_eval2['src'] = df_eval2['src'].add(df_eval2['tgt'])\n",
    "df_eval2['len'] = df_eval2['src'].apply(lambda x: len(x))\n",
    "\n",
    "df_eval2['char_id_list'] = df_eval2['src'].apply(lambda x: [char_to_id[c] for c in x] + [char_to_id['<eos>']])\n",
    "df_eval2['label_id_list'] = df_eval2.apply(convert_tgt_to_label_id_list, axis=1)\n",
    "df_eval2.head()\n"
   ]
  },
  {
   "cell_type": "code",
   "execution_count": 32,
   "metadata": {},
   "outputs": [],
   "source": [
    "ds_eval2 = Dataset(df_eval2[['char_id_list', 'label_id_list']])\n",
    "dl_eval2 = torch.utils.data.DataLoader(\n",
    "    ds_eval2,\n",
    "    batch_size=batch_size,\n",
    "    shuffle=True,\n",
    "    collate_fn=collate_fn\n",
    ")\n"
   ]
  },
  {
   "cell_type": "code",
   "execution_count": 33,
   "metadata": {},
   "outputs": [
    {
     "name": "stderr",
     "output_type": "stream",
     "text": [
      "Validation epoch 10: 100%|██████████| 1029/1029 [03:14<00:00,  5.29it/s]"
     ]
    },
    {
     "name": "stdout",
     "output_type": "stream",
     "text": [
      "Exact Match (EM) accuracy: 0.0016\n"
     ]
    },
    {
     "name": "stderr",
     "output_type": "stream",
     "text": [
      "\n"
     ]
    }
   ],
   "source": [
    "bar = tqdm(dl_eval2, desc=f\"Validation epoch {epoch}\")\n",
    "matched = 0\n",
    "total = 0\n",
    "for batch_x, batch_y, batch_x_lens, batch_y_lens in bar:\n",
    "    batch_x = batch_x.to(device)\n",
    "    batch_y = batch_y.to(device)\n",
    "\n",
    "    # Generate predictions\n",
    "    predictions = model(batch_x, batch_x_lens)  # 輸入 batch_x，根據 batch_x_lens 生成預測\n",
    "\n",
    "    # 將預測值轉為索引\n",
    "    pred_labels = torch.argmax(predictions, dim=-1)\n",
    "\n",
    "    for i, (pred_row, true_row) in enumerate(zip(pred_labels, batch_y)):\n",
    "        # 找到 ground truth 中的第一個有效字符（非 <pad>）\n",
    "        valid_start_idx = (true_row != char_to_id['<pad>']).nonzero(as_tuple=True)[0][0]\n",
    "        \n",
    "        # 找到 <eos> 的位置\n",
    "        if char_to_id['<eos>'] in true_row:\n",
    "            valid_end_idx = (true_row == char_to_id['<eos>']).nonzero(as_tuple=True)[0][0]\n",
    "        else:\n",
    "            valid_end_idx = len(true_row)  # 如果沒有 <eos>，則使用整個序列\n",
    "\n",
    "        # 截取 ground truth 和 prediction 的有效部分\n",
    "        true_row_valid = true_row[valid_start_idx:valid_end_idx + 1]\n",
    "        pred_row_valid = pred_row[valid_start_idx:valid_end_idx + 1]\n",
    "\n",
    "        # 將索引轉換成字符並列印\n",
    "        pred_chars = ''.join([id_to_char[idx] for idx in pred_row_valid.tolist()])\n",
    "        true_chars = ''.join([id_to_char[idx] for idx in true_row_valid.tolist()])\n",
    "        # print(f\"Prediction: {pred_chars}\")\n",
    "        # print(f\"Ground Truth: {true_chars}\")\n",
    "\n",
    "        # 僅在有效字符完全匹配時才計為 1\n",
    "        if torch.equal(pred_row_valid, true_row_valid):\n",
    "            matched += 1\n",
    "        total += 1  # 每處理一個有效序列，計為 1\n",
    "\n",
    "# Compute Exact Match (EM)\n",
    "EM = matched / total if total > 0 else 0\n",
    "print(f\"Exact Match (EM) accuracy: {EM:.4f}\")"
   ]
  },
  {
   "cell_type": "code",
   "execution_count": 37,
   "metadata": {},
   "outputs": [
    {
     "data": {
      "text/plain": [
       "['7', '9', '*', '3', '9', '=', '2', '8', '1', '3']"
      ]
     },
     "execution_count": 37,
     "metadata": {},
     "output_type": "execute_result"
    }
   ],
   "source": [
    "model.generator('79*39=')"
   ]
  },
  {
   "cell_type": "code",
   "execution_count": null,
   "metadata": {},
   "outputs": [],
   "source": []
  }
 ],
 "metadata": {
  "kernelspec": {
   "display_name": "NLP",
   "language": "python",
   "name": "python3"
  },
  "language_info": {
   "codemirror_mode": {
    "name": "ipython",
    "version": 3
   },
   "file_extension": ".py",
   "mimetype": "text/x-python",
   "name": "python",
   "nbconvert_exporter": "python",
   "pygments_lexer": "ipython3",
   "version": "undefined.undefined.undefined"
  }
 },
 "nbformat": 4,
 "nbformat_minor": 4
}
