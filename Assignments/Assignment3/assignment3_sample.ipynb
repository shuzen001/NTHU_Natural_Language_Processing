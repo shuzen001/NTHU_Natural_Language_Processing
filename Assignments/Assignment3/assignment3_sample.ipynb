{
 "cells": [
  {
   "cell_type": "code",
   "execution_count": null,
   "metadata": {},
   "outputs": [
    {
     "name": "stderr",
     "output_type": "stream",
     "text": [
      "/home/tony/anaconda3/envs/NLP/lib/python3.11/site-packages/tqdm/auto.py:21: TqdmWarning: IProgress not found. Please update jupyter and ipywidgets. See https://ipywidgets.readthedocs.io/en/stable/user_install.html\n",
      "  from .autonotebook import tqdm as notebook_tqdm\n"
     ]
    }
   ],
   "source": [
    "import transformers as T\n",
    "from datasets import load_dataset\n",
    "import torch\n",
    "from torch.utils.data import Dataset, DataLoader\n",
    "from torch.optim import AdamW\n",
    "from tqdm import tqdm\n",
    "from torchmetrics import SpearmanCorrCoef, Accuracy, F1Score\n",
    "\n",
    "device = \"cuda:0\" if torch.cuda.is_available() else \"cpu\""
   ]
  },
  {
   "cell_type": "code",
   "execution_count": 2,
   "metadata": {},
   "outputs": [],
   "source": [
    "# 有些中文的標點符號在tokenizer編碼以後會變成[UNK]，所以將其換成英文標點\n",
    "token_replacement = [\n",
    "    [\"：\" , \":\"],\n",
    "    [\"，\" , \",\"],\n",
    "    [\"“\" , \"\\\"\"],\n",
    "    [\"”\" , \"\\\"\"],\n",
    "    [\"？\" , \"?\"],\n",
    "    [\"……\" , \"...\"],\n",
    "    [\"！\" , \"!\"]\n",
    "]"
   ]
  },
  {
   "cell_type": "code",
   "execution_count": 3,
   "metadata": {},
   "outputs": [
    {
     "name": "stderr",
     "output_type": "stream",
     "text": [
      "/home/tony/anaconda3/envs/NLP/lib/python3.11/site-packages/transformers/tokenization_utils_base.py:1601: FutureWarning: `clean_up_tokenization_spaces` was not set. It will be set to `True` by default. This behavior will be depracted in transformers v4.45, and will be then set to `False` by default. For more details check this issue: https://github.com/huggingface/transformers/issues/31884\n",
      "  warnings.warn(\n"
     ]
    }
   ],
   "source": [
    "# model = MultiLabelModel().to(device)\n",
    "tokenizer = T.BertTokenizer.from_pretrained(\"google-bert/bert-base-uncased\", cache_dir=\"./cache/\")"
   ]
  },
  {
   "cell_type": "code",
   "execution_count": 4,
   "metadata": {},
   "outputs": [
    {
     "name": "stdout",
     "output_type": "stream",
     "text": [
      "Dataset example: \n",
      "{'sentence_pair_id': 1, 'premise': 'A group of kids is playing in a yard and an old man is standing in the background', 'hypothesis': 'A group of boys in a yard is playing and a man is standing in the background', 'relatedness_score': 4.5, 'entailment_judgment': 0} \n",
      "{'sentence_pair_id': 2, 'premise': 'A group of children is playing in the house and there is no man standing in the background', 'hypothesis': 'A group of kids is playing in a yard and an old man is standing in the background', 'relatedness_score': 3.200000047683716, 'entailment_judgment': 0} \n",
      "{'sentence_pair_id': 3, 'premise': 'The young boys are playing outdoors and the man is smiling nearby', 'hypothesis': 'The kids are playing outdoors near a man with a smile', 'relatedness_score': 4.699999809265137, 'entailment_judgment': 1}\n"
     ]
    }
   ],
   "source": [
    "class SemevalDataset(Dataset):\n",
    "    def __init__(self, split=\"train\") -> None:\n",
    "        super().__init__()\n",
    "        assert split in [\"train\", \"validation\", \"test\"]\n",
    "        self.data = load_dataset(\n",
    "            \"sem_eval_2014_task_1\", split=split, cache_dir=\"./cache/\"\n",
    "        ).to_list()\n",
    "\n",
    "    def __getitem__(self, index):\n",
    "        d = self.data[index]\n",
    "        # 把中文標點替換掉\n",
    "        for k in [\"premise\", \"hypothesis\"]:\n",
    "            for tok in token_replacement:\n",
    "                d[k] = d[k].replace(tok[0], tok[1])\n",
    "        return d\n",
    "\n",
    "    def __len__(self):\n",
    "        return len(self.data)\n",
    "\n",
    "data_sample = SemevalDataset(split=\"train\").data[:3]\n",
    "print(f\"Dataset example: \\n{data_sample[0]} \\n{data_sample[1]} \\n{data_sample[2]}\")"
   ]
  },
  {
   "cell_type": "code",
   "execution_count": 5,
   "metadata": {},
   "outputs": [
    {
     "data": {
      "text/plain": [
       "{'sentence_pair_id': 1,\n",
       " 'premise': 'A group of kids is playing in a yard and an old man is standing in the background',\n",
       " 'hypothesis': 'A group of boys in a yard is playing and a man is standing in the background',\n",
       " 'relatedness_score': 4.5,\n",
       " 'entailment_judgment': 0}"
      ]
     },
     "execution_count": 5,
     "metadata": {},
     "output_type": "execute_result"
    }
   ],
   "source": [
    "SemevalDataset(split=\"train\").data[0]"
   ]
  },
  {
   "cell_type": "code",
   "execution_count": 6,
   "metadata": {},
   "outputs": [],
   "source": [
    "# Define the hyperparameters\n",
    "lr = 2e-5\n",
    "epochs = 5\n",
    "train_batch_size = 8\n",
    "validation_batch_size = 8"
   ]
  },
  {
   "cell_type": "code",
   "execution_count": 7,
   "metadata": {},
   "outputs": [],
   "source": [
    "# TODO1: Create batched data for DataLoader\n",
    "# `collate_fn` is a function that defines how the data batch should be packed.\n",
    "# This function will be called in the DataLoader to pack the data batch.\n",
    "\n",
    "import torch.utils\n",
    "import torch.utils.data\n",
    "import torch.utils.data.dataloader\n",
    "import torch.utils.data.dataset\n",
    "\n",
    "\n",
    "def collate_fn(batch):\n",
    "    # TODO1-1: Implement the collate_fn function\n",
    "    # Write your code here\n",
    "    # The input parameter is a data batch (tuple), and this function packs it into tensors.\n",
    "    # Use tokenizer to pack tokenize and pack the data and its corresponding labels.\n",
    "    # Return the data batch and labels for each sub-task.\n",
    "\n",
    "    #提取出每個batch的資料\n",
    "\n",
    "    premises = [item['premise'] for item in batch]\n",
    "    hypotheses = [item['hypothesis'] for item in batch]\n",
    "    relatedness_scores = [item['relatedness_score'] for item in batch]\n",
    "    entailment_judgements = [item['entailment_judgment'] for item in batch]\n",
    "\n",
    "    #將資料轉換成模型可以讀取的格式 {input_ids, token_type_ids, attention_mask}\n",
    "    # input_ids: 代表每個token的id\n",
    "    # token_type_ids: 代表每個token屬於第一句或第二句\n",
    "    # attention_mask: 代表哪些token是padding\n",
    "    encoding = tokenizer(\n",
    "        premises,\n",
    "        hypotheses,\n",
    "        padding=True,\n",
    "        truncation=True,\n",
    "        return_tensors='pt',\n",
    "        return_token_type_ids=True, # 返回token_type_ids 用來區分兩個句子，第一句全為0，第二句全為1\n",
    "    ).to(device)\n",
    "\n",
    "    # 將label轉換成tensor\n",
    "    relatedness_scores = torch.tensor(relatedness_scores, dtype=torch.float).to(device)\n",
    "    entailment_judgements = torch.tensor(entailment_judgements, dtype=torch.long).to(device)\n",
    "\n",
    "    # 將資料打包成輸出的字典\n",
    "    batch_output = {\n",
    "        'input_text':{\n",
    "            'input_ids': encoding['input_ids'],\n",
    "            'token_type_ids': encoding['token_type_ids'],\n",
    "            'attention_mask': encoding['attention_mask']\n",
    "        },\n",
    "        'label1': relatedness_scores,\n",
    "        'label2': entailment_judgements\n",
    "    }\n",
    "\n",
    "    return batch_output\n",
    "    \n",
    "    \n",
    "\n",
    "# TODO1-2: Define your DataLoader\n",
    "dl_train = torch.utils.data.DataLoader(\n",
    "    SemevalDataset(split=\"train\"),\n",
    "    batch_size=train_batch_size,\n",
    "    shuffle=True,\n",
    "    collate_fn=collate_fn\n",
    ") # Write your code here\n",
    "\n",
    "dl_validation = torch.utils.data.DataLoader(\n",
    "    SemevalDataset(split=\"validation\"),\n",
    "    batch_size=validation_batch_size,\n",
    "    shuffle=False,\n",
    "    collate_fn=collate_fn\n",
    ") # Write your code here\n",
    "\n",
    "dl_test = torch.utils.data.DataLoader(\n",
    "    SemevalDataset(split=\"test\"),\n",
    "    batch_size=validation_batch_size,\n",
    "    shuffle=False,\n",
    "    collate_fn=collate_fn\n",
    ")"
   ]
  },
  {
   "cell_type": "code",
   "execution_count": 8,
   "metadata": {},
   "outputs": [],
   "source": [
    "# TODO2: Construct your model\n",
    "class MultiLabelModel(torch.nn.Module):\n",
    "    def __init__(self, *args, **kwargs):\n",
    "        super().__init__(*args, **kwargs)\n",
    "        # Write your code here\n",
    "        # Define what modules you will use in the model\n",
    "        # 先做一個BertModel，然後加上relatedness_score的regression和entailment_judgement的分類層\n",
    "\n",
    "        self.bert = T.BertModel.from_pretrained(\"bert-base-uncased\", cache_dir=\"./cache/\")\n",
    "        self.regression = torch.nn.Linear(self.bert.config.hidden_size, 1)\n",
    "        self.classification = torch.nn.Linear(self.bert.config.hidden_size, 3)\n",
    "\n",
    "    def forward(self, **kwargs):\n",
    "        # Write your code here\n",
    "        # Forward pass\n",
    "\n",
    "        input_text = kwargs['input_text']\n",
    "        outputs = self.bert(\n",
    "            input_ids=input_text['input_ids'],\n",
    "            token_type_ids=input_text['token_type_ids'],\n",
    "            attention_mask=input_text['attention_mask']\n",
    "        )\n",
    "        cls_output = outputs.last_hidden_state[:, 0, :]\n",
    "        regression_output = self.regression(cls_output)\n",
    "        classification_output = self.classification(cls_output)\n",
    "        \n",
    "        return regression_output, classification_output\n",
    "\n",
    "model = MultiLabelModel().to(device)"
   ]
  },
  {
   "cell_type": "code",
   "execution_count": 9,
   "metadata": {},
   "outputs": [
    {
     "name": "stderr",
     "output_type": "stream",
     "text": [
      "/home/tony/anaconda3/envs/NLP/lib/python3.11/site-packages/torchmetrics/utilities/prints.py:43: UserWarning: Metric `SpearmanCorrcoef` will save all targets and predictions in the buffer. For large datasets, this may lead to large memory footprint.\n",
      "  warnings.warn(*args, **kwargs)  # noqa: B028\n"
     ]
    }
   ],
   "source": [
    "# TODO3: Define your optimizer and loss function\n",
    "\n",
    "# TODO3-1: Define your Optimizer\n",
    "optimizer = torch.optim.Adam(model.parameters(), lr=lr) # Write your code here\n",
    "\n",
    "# TODO3-2: Define your loss functions (you should have two)\n",
    "# Write your code here\n",
    "loss_fn_regression = torch.nn.MSELoss()\n",
    "loss_fn_classification = torch.nn.CrossEntropyLoss()\n",
    "\n",
    "# scoring functions\n",
    "spc = SpearmanCorrCoef()\n",
    "acc = Accuracy(task=\"multiclass\", num_classes=3)\n",
    "f1 = F1Score(task=\"multiclass\", num_classes=3, average='macro')"
   ]
  },
  {
   "cell_type": "code",
   "execution_count": 10,
   "metadata": {},
   "outputs": [
    {
     "name": "stderr",
     "output_type": "stream",
     "text": [
      "Training epoch [1/5]: 100%|██████████| 563/563 [00:14<00:00, 39.04it/s, Loss=0.305]\n",
      "Validation epoch [1/5]: 100%|██████████| 63/63 [00:00<00:00, 150.21it/s]\n"
     ]
    },
    {
     "name": "stdout",
     "output_type": "stream",
     "text": [
      "SpearmanCorr: 0.7813636660575867\n",
      "Accuracy: 0.8500000238418579\n",
      "F1Score: 0.8494459390640259\n",
      "\n"
     ]
    },
    {
     "name": "stderr",
     "output_type": "stream",
     "text": [
      "Training epoch [2/5]: 100%|██████████| 563/563 [00:14<00:00, 38.65it/s, Loss=0.24]  \n",
      "Validation epoch [2/5]: 100%|██████████| 63/63 [00:00<00:00, 162.81it/s]\n"
     ]
    },
    {
     "name": "stdout",
     "output_type": "stream",
     "text": [
      "SpearmanCorr: 0.8214364051818848\n",
      "Accuracy: 0.8619999885559082\n",
      "F1Score: 0.8606271743774414\n",
      "\n"
     ]
    },
    {
     "name": "stderr",
     "output_type": "stream",
     "text": [
      "Training epoch [3/5]: 100%|██████████| 563/563 [00:14<00:00, 39.55it/s, Loss=0.0453]\n",
      "Validation epoch [3/5]: 100%|██████████| 63/63 [00:00<00:00, 163.48it/s]\n"
     ]
    },
    {
     "name": "stdout",
     "output_type": "stream",
     "text": [
      "SpearmanCorr: 0.8182405829429626\n",
      "Accuracy: 0.8659999966621399\n",
      "F1Score: 0.8640569448471069\n",
      "\n"
     ]
    },
    {
     "name": "stderr",
     "output_type": "stream",
     "text": [
      "Training epoch [4/5]: 100%|██████████| 563/563 [00:14<00:00, 38.40it/s, Loss=0.0875]\n",
      "Validation epoch [4/5]: 100%|██████████| 63/63 [00:00<00:00, 163.02it/s]\n"
     ]
    },
    {
     "name": "stdout",
     "output_type": "stream",
     "text": [
      "SpearmanCorr: 0.8265454173088074\n",
      "Accuracy: 0.8600000143051147\n",
      "F1Score: 0.859329104423523\n",
      "\n"
     ]
    },
    {
     "name": "stderr",
     "output_type": "stream",
     "text": [
      "Training epoch [5/5]: 100%|██████████| 563/563 [00:14<00:00, 38.53it/s, Loss=0.24]  \n",
      "Validation epoch [5/5]: 100%|██████████| 63/63 [00:00<00:00, 150.26it/s]\n"
     ]
    },
    {
     "name": "stdout",
     "output_type": "stream",
     "text": [
      "SpearmanCorr: 0.8274685144424438\n",
      "Accuracy: 0.8560000061988831\n",
      "F1Score: 0.8504743576049805\n",
      "\n"
     ]
    }
   ],
   "source": [
    "for ep in range(epochs):\n",
    "    # Training Loop\n",
    "    pbar = tqdm(dl_train)\n",
    "    pbar.set_description(f\"Training epoch [{ep+1}/{epochs}]\")\n",
    "    model.train()\n",
    "\n",
    "    for batch_idx, batch in enumerate(pbar):\n",
    "\n",
    "        # 清空梯度\n",
    "        optimizer.zero_grad()\n",
    "\n",
    "        # 移動資料到設備\n",
    "        relatedness_scores = batch['label1'].to(device)\n",
    "        entailment_judgements = batch['label2'].to(device)\n",
    "        batch['input_text'] = {\n",
    "            k: v.to(device) for k, v in batch['input_text'].items() if isinstance(v, torch.Tensor)\n",
    "        }\n",
    "\n",
    "        # 前向傳播與計算損失\n",
    "        regression_output, classification_output = model(**batch)\n",
    "        loss1 = loss_fn_regression(regression_output.squeeze(), relatedness_scores)\n",
    "        loss2 = loss_fn_classification(classification_output, entailment_judgements)\n",
    "        loss = loss1 + loss2\n",
    "\n",
    "        # 反向傳播與更新參數\n",
    "        loss.backward()\n",
    "        optimizer.step()\n",
    "\n",
    "        # 更新進度條\n",
    "        pbar.set_postfix({\n",
    "            \"Loss\": loss.item()\n",
    "        })\n",
    "\n",
    "    # Validation Loop\n",
    "    pbar = tqdm(dl_validation)\n",
    "    pbar.set_description(f\"Validation epoch [{ep+1}/{epochs}]\")\n",
    "    model.eval()\n",
    "\n",
    "    spc.to(device)\n",
    "    acc.to(device)\n",
    "    f1.to(device)\n",
    "\n",
    "    spc.reset()\n",
    "    acc.reset()\n",
    "    f1.reset()\n",
    "\n",
    "    val_start_time = time.time()\n",
    "    with torch.no_grad():\n",
    "        for batch_idx, batch in enumerate(pbar):\n",
    "            relatedness_scores = batch['label1'].to(device)\n",
    "            entailment_judgements = batch['label2'].to(device)\n",
    "            batch['input_text'] = {\n",
    "                k: v.to(device) for k, v in batch['input_text'].items() if isinstance(v, torch.Tensor)\n",
    "            }\n",
    "\n",
    "            regression_output, classification_output = model(**batch)\n",
    "\n",
    "            # 更新度量\n",
    "            spc.update(regression_output.squeeze(), relatedness_scores)\n",
    "            acc.update(classification_output, entailment_judgements)\n",
    "            f1.update(classification_output, entailment_judgements)\n",
    "\n",
    "    print(f\"SpearmanCorr: {spc.compute().item()}\\n\"\n",
    "          f\"Accuracy: {acc.compute().item()}\\nF1Score: {f1.compute().item()}\\n\"\n",
    "          )\n",
    "\n",
    "    # 儲存模型\n",
    "    torch.save(model, f'./saved_models/ep{ep}.ckpt')\n"
   ]
  },
  {
   "cell_type": "markdown",
   "metadata": {},
   "source": [
    "For test set predictions, you can write perform evaluation simlar to #TODO5."
   ]
  },
  {
   "cell_type": "code",
   "execution_count": 11,
   "metadata": {},
   "outputs": [
    {
     "name": "stderr",
     "output_type": "stream",
     "text": [
      "test: 100%|██████████| 616/616 [00:03<00:00, 154.75it/s]"
     ]
    },
    {
     "name": "stdout",
     "output_type": "stream",
     "text": [
      "Testset\n",
      "SpearmanCorr: 0.8335764408111572\n",
      "Accuracy: 0.8749746084213257\n",
      "F1Score: 0.8664665222167969\n",
      "\n"
     ]
    },
    {
     "name": "stderr",
     "output_type": "stream",
     "text": [
      "\n"
     ]
    }
   ],
   "source": [
    "# test Loop\n",
    "pbar = tqdm(dl_test)\n",
    "pbar.set_description(f\"test\")\n",
    "model.eval()\n",
    "\n",
    "spc.to(device)\n",
    "acc.to(device)\n",
    "f1.to(device)\n",
    "\n",
    "spc.reset()\n",
    "acc.reset()\n",
    "f1.reset()\n",
    "\n",
    "with torch.no_grad():\n",
    "    for batch_idx, batch in enumerate(pbar):\n",
    "        relatedness_scores = batch['label1'].to(device)\n",
    "        entailment_judgements = batch['label2'].to(device)\n",
    "        batch['input_text'] = {\n",
    "            k: v.to(device) for k, v in batch['input_text'].items() if isinstance(v, torch.Tensor)\n",
    "        }\n",
    "\n",
    "        regression_output, classification_output = model(**batch)\n",
    "\n",
    "        # 更新度量\n",
    "        spc.update(regression_output.squeeze(), relatedness_scores)\n",
    "        acc.update(classification_output, entailment_judgements)\n",
    "        f1.update(classification_output, entailment_judgements)\n",
    "\n",
    "print(f\"Testset\\nSpearmanCorr: {spc.compute().item()}\\n\"\n",
    "        f\"Accuracy: {acc.compute().item()}\\nF1Score: {f1.compute().item()}\\n\"\n",
    "        )"
   ]
  }
 ],
 "metadata": {
  "kernelspec": {
   "display_name": "NLP",
   "language": "python",
   "name": "python3"
  },
  "language_info": {
   "codemirror_mode": {
    "name": "ipython",
    "version": 3
   },
   "file_extension": ".py",
   "mimetype": "text/x-python",
   "name": "python",
   "nbconvert_exporter": "python",
   "pygments_lexer": "ipython3",
   "version": "3.11.10"
  }
 },
 "nbformat": 4,
 "nbformat_minor": 2
}
